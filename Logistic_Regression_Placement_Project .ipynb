{
 "cells": [
  {
   "cell_type": "code",
   "execution_count": 75,
   "id": "1c8e6353",
   "metadata": {},
   "outputs": [],
   "source": [
    "import pandas as pd\n",
    "import numpy as np\n",
    "import matplotlib.pyplot  as plt\n",
    "\n"
   ]
  },
  {
   "cell_type": "code",
   "execution_count": 73,
   "id": "4512d598",
   "metadata": {},
   "outputs": [],
   "source": [
    "#pip install scikit-learn"
   ]
  },
  {
   "cell_type": "markdown",
   "id": "2d843f34",
   "metadata": {},
   "source": [
    "### Load the dataframe"
   ]
  },
  {
   "cell_type": "code",
   "execution_count": 34,
   "id": "5bdaa96d",
   "metadata": {},
   "outputs": [],
   "source": [
    "df = pd.read_csv('placement.csv')"
   ]
  },
  {
   "cell_type": "markdown",
   "id": "b2a351d6",
   "metadata": {},
   "source": [
    "# Predicting Student Placements"
   ]
  },
  {
   "cell_type": "markdown",
   "id": "daec7067",
   "metadata": {},
   "source": [
    "<span style=\"color: green; font-size: 18px;\">Data Preprocessing</span>\n"
   ]
  },
  {
   "cell_type": "code",
   "execution_count": 42,
   "id": "2ec1a50d",
   "metadata": {},
   "outputs": [
    {
     "data": {
      "text/html": [
       "<div>\n",
       "<style scoped>\n",
       "    .dataframe tbody tr th:only-of-type {\n",
       "        vertical-align: middle;\n",
       "    }\n",
       "\n",
       "    .dataframe tbody tr th {\n",
       "        vertical-align: top;\n",
       "    }\n",
       "\n",
       "    .dataframe thead th {\n",
       "        text-align: right;\n",
       "    }\n",
       "</style>\n",
       "<table border=\"1\" class=\"dataframe\">\n",
       "  <thead>\n",
       "    <tr style=\"text-align: right;\">\n",
       "      <th></th>\n",
       "      <th>cgpa</th>\n",
       "      <th>iq</th>\n",
       "      <th>placement</th>\n",
       "    </tr>\n",
       "  </thead>\n",
       "  <tbody>\n",
       "    <tr>\n",
       "      <th>0</th>\n",
       "      <td>6.8</td>\n",
       "      <td>123.0</td>\n",
       "      <td>1</td>\n",
       "    </tr>\n",
       "    <tr>\n",
       "      <th>1</th>\n",
       "      <td>5.9</td>\n",
       "      <td>106.0</td>\n",
       "      <td>0</td>\n",
       "    </tr>\n",
       "    <tr>\n",
       "      <th>2</th>\n",
       "      <td>5.3</td>\n",
       "      <td>121.0</td>\n",
       "      <td>0</td>\n",
       "    </tr>\n",
       "    <tr>\n",
       "      <th>3</th>\n",
       "      <td>7.4</td>\n",
       "      <td>132.0</td>\n",
       "      <td>1</td>\n",
       "    </tr>\n",
       "    <tr>\n",
       "      <th>4</th>\n",
       "      <td>5.8</td>\n",
       "      <td>142.0</td>\n",
       "      <td>0</td>\n",
       "    </tr>\n",
       "    <tr>\n",
       "      <th>...</th>\n",
       "      <td>...</td>\n",
       "      <td>...</td>\n",
       "      <td>...</td>\n",
       "    </tr>\n",
       "    <tr>\n",
       "      <th>95</th>\n",
       "      <td>4.3</td>\n",
       "      <td>200.0</td>\n",
       "      <td>0</td>\n",
       "    </tr>\n",
       "    <tr>\n",
       "      <th>96</th>\n",
       "      <td>4.4</td>\n",
       "      <td>42.0</td>\n",
       "      <td>0</td>\n",
       "    </tr>\n",
       "    <tr>\n",
       "      <th>97</th>\n",
       "      <td>6.7</td>\n",
       "      <td>182.0</td>\n",
       "      <td>1</td>\n",
       "    </tr>\n",
       "    <tr>\n",
       "      <th>98</th>\n",
       "      <td>6.3</td>\n",
       "      <td>103.0</td>\n",
       "      <td>1</td>\n",
       "    </tr>\n",
       "    <tr>\n",
       "      <th>99</th>\n",
       "      <td>6.2</td>\n",
       "      <td>113.0</td>\n",
       "      <td>1</td>\n",
       "    </tr>\n",
       "  </tbody>\n",
       "</table>\n",
       "<p>100 rows × 3 columns</p>\n",
       "</div>"
      ],
      "text/plain": [
       "    cgpa     iq  placement\n",
       "0    6.8  123.0          1\n",
       "1    5.9  106.0          0\n",
       "2    5.3  121.0          0\n",
       "3    7.4  132.0          1\n",
       "4    5.8  142.0          0\n",
       "..   ...    ...        ...\n",
       "95   4.3  200.0          0\n",
       "96   4.4   42.0          0\n",
       "97   6.7  182.0          1\n",
       "98   6.3  103.0          1\n",
       "99   6.2  113.0          1\n",
       "\n",
       "[100 rows x 3 columns]"
      ]
     },
     "execution_count": 42,
     "metadata": {},
     "output_type": "execute_result"
    }
   ],
   "source": [
    "df = df.loc[:, ~df.columns.str.contains('Unnamed', case=False)]\n",
    "df"
   ]
  },
  {
   "cell_type": "markdown",
   "id": "f497c2b2",
   "metadata": {},
   "source": [
    "<span style=\"color: purple; font-size: 18px;\">Shape & Size</span>\n"
   ]
  },
  {
   "cell_type": "code",
   "execution_count": 23,
   "id": "2c182f19",
   "metadata": {},
   "outputs": [
    {
     "data": {
      "text/plain": [
       "((100, 3), 300)"
      ]
     },
     "execution_count": 23,
     "metadata": {},
     "output_type": "execute_result"
    }
   ],
   "source": [
    "df.shape , df.size"
   ]
  },
  {
   "cell_type": "code",
   "execution_count": 27,
   "id": "1d5e4feb",
   "metadata": {},
   "outputs": [
    {
     "name": "stdout",
     "output_type": "stream",
     "text": [
      "<class 'pandas.core.frame.DataFrame'>\n",
      "RangeIndex: 100 entries, 0 to 99\n",
      "Data columns (total 3 columns):\n",
      " #   Column     Non-Null Count  Dtype  \n",
      "---  ------     --------------  -----  \n",
      " 0   cgpa       100 non-null    float64\n",
      " 1   iq         100 non-null    float64\n",
      " 2   placement  100 non-null    int64  \n",
      "dtypes: float64(2), int64(1)\n",
      "memory usage: 2.5 KB\n"
     ]
    }
   ],
   "source": [
    "df.info()"
   ]
  },
  {
   "cell_type": "markdown",
   "id": "130cf371",
   "metadata": {},
   "source": [
    "<span style=\"color: green; font-size: 18px;\">Exploratory Data Analysis (EDA)</span>\n"
   ]
  },
  {
   "cell_type": "code",
   "execution_count": 55,
   "id": "3fccce17",
   "metadata": {},
   "outputs": [
    {
     "data": {
      "image/png": "[encoded data removed]",
      "text/plain": [
       "<Figure size 640x480 with 1 Axes>"
      ]
     },
     "metadata": {},
     "output_type": "display_data"
    }
   ],
   "source": [
    "import matplotlib.pyplot as plt\n",
    "\n",
    "plt.scatter(df['cgpa'], df['iq'], c=df['placement'].map({0: 'red', 1: 'green'}))\n",
    "plt.xlabel('CGPA')\n",
    "plt.ylabel('IQ')\n",
    "plt.title('Scatter Plot of CGPA vs IQ with Placement')\n",
    "#plt.colorbar(label=\"Placement (0 = Not Placed, 1 = Placed)\")\n",
    "plt.show()\n",
    "\n"
   ]
  },
  {
   "cell_type": "markdown",
   "id": "3c13f0b7",
   "metadata": {},
   "source": [
    "<span style=\"color: green; font-size: 18px;\">Feature Selection</span>\n"
   ]
  },
  {
   "cell_type": "code",
   "execution_count": null,
   "id": "c0b7a909",
   "metadata": {},
   "outputs": [],
   "source": []
  },
  {
   "cell_type": "markdown",
   "id": "a848a891",
   "metadata": {},
   "source": [
    "## Extract Input and output columns"
   ]
  },
  {
   "cell_type": "code",
   "execution_count": 67,
   "id": "b939c1d9",
   "metadata": {},
   "outputs": [
    {
     "name": "stdout",
     "output_type": "stream",
     "text": [
      "(100, 2)\n"
     ]
    },
    {
     "data": {
      "text/html": [
       "<div>\n",
       "<style scoped>\n",
       "    .dataframe tbody tr th:only-of-type {\n",
       "        vertical-align: middle;\n",
       "    }\n",
       "\n",
       "    .dataframe tbody tr th {\n",
       "        vertical-align: top;\n",
       "    }\n",
       "\n",
       "    .dataframe thead th {\n",
       "        text-align: right;\n",
       "    }\n",
       "</style>\n",
       "<table border=\"1\" class=\"dataframe\">\n",
       "  <thead>\n",
       "    <tr style=\"text-align: right;\">\n",
       "      <th></th>\n",
       "      <th>cgpa</th>\n",
       "      <th>iq</th>\n",
       "    </tr>\n",
       "  </thead>\n",
       "  <tbody>\n",
       "    <tr>\n",
       "      <th>0</th>\n",
       "      <td>6.8</td>\n",
       "      <td>123.0</td>\n",
       "    </tr>\n",
       "    <tr>\n",
       "      <th>1</th>\n",
       "      <td>5.9</td>\n",
       "      <td>106.0</td>\n",
       "    </tr>\n",
       "    <tr>\n",
       "      <th>2</th>\n",
       "      <td>5.3</td>\n",
       "      <td>121.0</td>\n",
       "    </tr>\n",
       "    <tr>\n",
       "      <th>3</th>\n",
       "      <td>7.4</td>\n",
       "      <td>132.0</td>\n",
       "    </tr>\n",
       "    <tr>\n",
       "      <th>4</th>\n",
       "      <td>5.8</td>\n",
       "      <td>142.0</td>\n",
       "    </tr>\n",
       "    <tr>\n",
       "      <th>...</th>\n",
       "      <td>...</td>\n",
       "      <td>...</td>\n",
       "    </tr>\n",
       "    <tr>\n",
       "      <th>95</th>\n",
       "      <td>4.3</td>\n",
       "      <td>200.0</td>\n",
       "    </tr>\n",
       "    <tr>\n",
       "      <th>96</th>\n",
       "      <td>4.4</td>\n",
       "      <td>42.0</td>\n",
       "    </tr>\n",
       "    <tr>\n",
       "      <th>97</th>\n",
       "      <td>6.7</td>\n",
       "      <td>182.0</td>\n",
       "    </tr>\n",
       "    <tr>\n",
       "      <th>98</th>\n",
       "      <td>6.3</td>\n",
       "      <td>103.0</td>\n",
       "    </tr>\n",
       "    <tr>\n",
       "      <th>99</th>\n",
       "      <td>6.2</td>\n",
       "      <td>113.0</td>\n",
       "    </tr>\n",
       "  </tbody>\n",
       "</table>\n",
       "<p>100 rows × 2 columns</p>\n",
       "</div>"
      ],
      "text/plain": [
       "    cgpa     iq\n",
       "0    6.8  123.0\n",
       "1    5.9  106.0\n",
       "2    5.3  121.0\n",
       "3    7.4  132.0\n",
       "4    5.8  142.0\n",
       "..   ...    ...\n",
       "95   4.3  200.0\n",
       "96   4.4   42.0\n",
       "97   6.7  182.0\n",
       "98   6.3  103.0\n",
       "99   6.2  113.0\n",
       "\n",
       "[100 rows x 2 columns]"
      ]
     },
     "execution_count": 67,
     "metadata": {},
     "output_type": "execute_result"
    }
   ],
   "source": [
    "X = df.iloc[:,0:2]\n",
    "print(X.shape)\n",
    "X"
   ]
  },
  {
   "cell_type": "code",
   "execution_count": 69,
   "id": "3c9eddd5",
   "metadata": {},
   "outputs": [
    {
     "name": "stdout",
     "output_type": "stream",
     "text": [
      "(100,)\n"
     ]
    },
    {
     "data": {
      "text/plain": [
       "0     1\n",
       "1     0\n",
       "2     0\n",
       "3     1\n",
       "4     0\n",
       "     ..\n",
       "95    0\n",
       "96    0\n",
       "97    1\n",
       "98    1\n",
       "99    1\n",
       "Name: placement, Length: 100, dtype: int64"
      ]
     },
     "execution_count": 69,
     "metadata": {},
     "output_type": "execute_result"
    }
   ],
   "source": [
    "y= df.iloc[:,2]\n",
    "print(y.shape)\n",
    "y"
   ]
  },
  {
   "cell_type": "code",
   "execution_count": 79,
   "id": "d52dc079",
   "metadata": {},
   "outputs": [],
   "source": [
    "from sklearn.model_selection import train_test_split\n",
    "\n",
    "X_train, X_test , y_tain, y_test =train_test_split(X,y , test_size = 0.2)"
   ]
  },
  {
   "cell_type": "markdown",
   "id": "30573359",
   "metadata": {},
   "source": [
    "<span style=\"color: green; font-size: 18px;\">Scalling Numbers to -1 to +1</span>\n"
   ]
  },
  {
   "cell_type": "code",
   "execution_count": 84,
   "id": "4686ad01",
   "metadata": {},
   "outputs": [],
   "source": [
    "from sklearn.preprocessing import StandardScaler\n",
    "scaler =  StandardScaler()\n",
    "X_train =  scaler.fit_transform(X_train)\n",
    "X_test  = scaler.transform(X_test)"
   ]
  },
  {
   "cell_type": "code",
   "execution_count": 83,
   "id": "871fb3e0",
   "metadata": {},
   "outputs": [
    {
     "data": {
      "text/plain": [
       "array([[-1.28245224,  1.17480466],\n",
       "       [-0.10544062,  0.65555398],\n",
       "       [ 0.28689658, -0.20120964],\n",
       "       [-0.89011504, -0.35698484],\n",
       "       [-0.00735632, -0.53872258],\n",
       "       [ 1.95432971,  0.65555398],\n",
       "       [ 0.58114949,  0.78536665],\n",
       "       [ 0.18881228,  0.08437824],\n",
       "       [ 0.97348669,  0.70747905],\n",
       "       [-1.77287375,  1.97964321],\n",
       "       [-0.10544062, -0.56468511],\n",
       "       [-1.67478945, -2.12243715],\n",
       "       [ 0.18881228, -0.53872258],\n",
       "       [ 1.1696553 , -1.91473687],\n",
       "       [-1.08628364, -0.85027298],\n",
       "       [-0.10544062, -2.04454954],\n",
       "       [ 1.1696553 , -0.20120964],\n",
       "       [-2.16521096, -0.38294737],\n",
       "       [-1.38053654, -0.95412312],\n",
       "       [-0.10544062, -1.49933633],\n",
       "       [ 0.48306519,  0.36996611],\n",
       "       [ 0.38498088,  0.94114185],\n",
       "       [ 0.87540239,  0.39592864],\n",
       "       [-0.98819934,  1.3565424 ],\n",
       "       [-0.20352493, -0.46083498],\n",
       "       [ 1.3658239 ,  0.88921679],\n",
       "       [ 0.87540239,  1.95368068],\n",
       "       [-0.30160923,  0.47381624],\n",
       "       [-1.18436794,  1.87579307],\n",
       "       [-0.69394643, -0.43487244],\n",
       "       [-0.69394643,  0.29207851],\n",
       "       [-0.39969353,  0.42189118],\n",
       "       [-1.18436794, -1.629149  ],\n",
       "       [-0.00735632, -1.10989832],\n",
       "       [-0.79203074, -0.25313471],\n",
       "       [-0.00735632,  0.83729172],\n",
       "       [ 0.87540239, -0.30505977],\n",
       "       [ 1.1696553 , -0.98008565],\n",
       "       [ 0.77731809,  0.39592864],\n",
       "       [ 1.3658239 ,  0.16226584],\n",
       "       [ 1.4639082 , -0.90219805],\n",
       "       [ 1.95432971,  1.09691706],\n",
       "       [ 0.67923379, -0.0194719 ],\n",
       "       [ 0.77731809,  0.36996611],\n",
       "       [ 0.38498088, -2.25224981],\n",
       "       [-0.89011504,  2.60274402],\n",
       "       [-1.28245224,  0.44785371],\n",
       "       [ 0.87540239,  1.33057986],\n",
       "       [-0.30160923,  1.09691706],\n",
       "       [-0.69394643, -0.25313471],\n",
       "       [-1.18436794,  0.26611597],\n",
       "       [-0.39969353,  1.17480466],\n",
       "       [-0.98819934,  0.11034077],\n",
       "       [ 0.77731809, -0.72046032],\n",
       "       [-0.79203074, -0.07139697],\n",
       "       [ 1.1696553 ,  0.34400357],\n",
       "       [-1.08628364, -1.57722393],\n",
       "       [ 0.28689658,  0.44785371],\n",
       "       [ 0.67923379, -0.30505977],\n",
       "       [ 1.4639082 ,  0.11034077],\n",
       "       [-0.39969353,  0.49977878],\n",
       "       [-0.39969353,  0.2141909 ],\n",
       "       [-0.89011504, -0.87623552],\n",
       "       [ 0.38498088, -0.87623552],\n",
       "       [ 0.87540239, -1.5512614 ],\n",
       "       [ 2.15049831,  1.14884212],\n",
       "       [ 0.38498088,  0.16226584],\n",
       "       [-0.00735632,  0.2141909 ],\n",
       "       [-1.47862085,  0.57766638],\n",
       "       [ 0.67923379,  0.44785371],\n",
       "       [ 0.09072798, -0.27909724],\n",
       "       [-1.28245224, -0.30505977],\n",
       "       [ 1.85624541, -1.16182339],\n",
       "       [ 0.58114949,  1.5123176 ],\n",
       "       [-1.18436794, -0.0973595 ],\n",
       "       [-0.89011504,  0.2141909 ],\n",
       "       [-1.38053654, -0.07139697],\n",
       "       [ 0.97348669, -1.96666194],\n",
       "       [-1.18436794,  0.70747905],\n",
       "       [ 0.67923379, -0.87623552]])"
      ]
     },
     "execution_count": 83,
     "metadata": {},
     "output_type": "execute_result"
    }
   ],
   "source": [
    "X_train"
   ]
  },
  {
   "cell_type": "code",
   "execution_count": null,
   "id": "bfa8aa31",
   "metadata": {},
   "outputs": [],
   "source": []
  }
 ],
 "metadata": {
  "kernelspec": {
   "display_name": "Python 3 (ipykernel)",
   "language": "python",
   "name": "python3"
  },
  "language_info": {
   "codemirror_mode": {
    "name": "ipython",
    "version": 3
   },
   "file_extension": ".py",
   "mimetype": "text/x-python",
   "name": "python",
   "nbconvert_exporter": "python",
   "pygments_lexer": "ipython3",
   "version": "3.11.9"
  }
 },
 "nbformat": 4,
 "nbformat_minor": 5
}
